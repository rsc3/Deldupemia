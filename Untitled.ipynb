{
 "cells": [
  {
   "cell_type": "code",
   "execution_count": 1,
   "metadata": {},
   "outputs": [
    {
     "name": "stderr",
     "output_type": "stream",
     "text": [
      "\u001b[32m\u001b[1m   Updating\u001b[22m\u001b[39m registry at `~/.juliapro/JuliaPro_v1.3.1-1/registries/JuliaPro`\n",
      "┌ Warning: could not download https://pkg.juliacomputing.com/registries\n",
      "└ @ Pkg.Types /Users/vagrant/worker/juliapro-release-osx1011-0_6/build/tmp_julia/Julia-1.3.app/Contents/Resources/julia/share/julia/stdlib/v1.3/Pkg/src/Types.jl:874\n",
      "\u001b[32m\u001b[1m  Resolving\u001b[22m\u001b[39m package versions...\n"
     ]
    },
    {
     "data": {
      "text/html": [
       "<table class=\"data-frame\"><thead><tr><th></th><th>Column1</th><th>ethnicity</th><th>CNSL_probe_0</th><th>CNSL_probe_1</th><th>CNSL_probe_2</th><th>CNSL_probe_3</th><th>CNSL_probe_4</th></tr><tr><th></th><th>Int64</th><th>String</th><th>Int64</th><th>Int64</th><th>Int64</th><th>Int64</th><th>Int64</th></tr></thead><tbody><p>10,000 rows × 102 columns (omitted printing of 95 columns)</p><tr><th>1</th><td>0</td><td>A</td><td>410</td><td>233</td><td>697</td><td>167</td><td>131</td></tr><tr><th>2</th><td>1</td><td>C</td><td>557</td><td>304</td><td>956</td><td>208</td><td>138</td></tr><tr><th>3</th><td>2</td><td>A</td><td>487</td><td>260</td><td>861</td><td>194</td><td>148</td></tr><tr><th>4</th><td>3</td><td>B</td><td>686</td><td>368</td><td>1276</td><td>267</td><td>221</td></tr><tr><th>5</th><td>4</td><td>C</td><td>677</td><td>348</td><td>1248</td><td>267</td><td>179</td></tr><tr><th>6</th><td>5</td><td>A</td><td>879</td><td>404</td><td>1376</td><td>368</td><td>242</td></tr><tr><th>7</th><td>6</td><td>A</td><td>901</td><td>469</td><td>1543</td><td>378</td><td>293</td></tr><tr><th>8</th><td>7</td><td>C</td><td>455</td><td>247</td><td>865</td><td>213</td><td>122</td></tr><tr><th>9</th><td>8</td><td>C</td><td>746</td><td>404</td><td>1324</td><td>293</td><td>242</td></tr><tr><th>10</th><td>9</td><td>B</td><td>851</td><td>420</td><td>1400</td><td>285</td><td>201</td></tr><tr><th>11</th><td>10</td><td>C</td><td>633</td><td>329</td><td>1111</td><td>257</td><td>181</td></tr><tr><th>12</th><td>11</td><td>C</td><td>1106</td><td>551</td><td>1677</td><td>372</td><td>329</td></tr><tr><th>13</th><td>12</td><td>C</td><td>805</td><td>447</td><td>1413</td><td>346</td><td>255</td></tr><tr><th>14</th><td>13</td><td>C</td><td>746</td><td>394</td><td>1276</td><td>289</td><td>221</td></tr><tr><th>15</th><td>14</td><td>A</td><td>1038</td><td>452</td><td>1594</td><td>367</td><td>277</td></tr><tr><th>16</th><td>15</td><td>B</td><td>726</td><td>393</td><td>1152</td><td>308</td><td>202</td></tr><tr><th>17</th><td>16</td><td>B</td><td>884</td><td>455</td><td>1493</td><td>420</td><td>254</td></tr><tr><th>18</th><td>17</td><td>B</td><td>619</td><td>314</td><td>1057</td><td>264</td><td>177</td></tr><tr><th>19</th><td>18</td><td>C</td><td>1109</td><td>615</td><td>2020</td><td>423</td><td>288</td></tr><tr><th>20</th><td>19</td><td>A</td><td>1100</td><td>571</td><td>2066</td><td>458</td><td>341</td></tr><tr><th>21</th><td>20</td><td>C</td><td>443</td><td>228</td><td>790</td><td>175</td><td>134</td></tr><tr><th>22</th><td>21</td><td>B</td><td>854</td><td>396</td><td>1367</td><td>334</td><td>253</td></tr><tr><th>23</th><td>22</td><td>A</td><td>815</td><td>429</td><td>1308</td><td>302</td><td>203</td></tr><tr><th>24</th><td>23</td><td>A</td><td>363</td><td>183</td><td>639</td><td>158</td><td>115</td></tr><tr><th>25</th><td>24</td><td>B</td><td>1131</td><td>505</td><td>2015</td><td>441</td><td>372</td></tr><tr><th>26</th><td>25</td><td>A</td><td>739</td><td>403</td><td>1329</td><td>301</td><td>217</td></tr><tr><th>27</th><td>26</td><td>C</td><td>751</td><td>412</td><td>1289</td><td>319</td><td>217</td></tr><tr><th>28</th><td>27</td><td>A</td><td>811</td><td>413</td><td>1435</td><td>293</td><td>231</td></tr><tr><th>29</th><td>28</td><td>C</td><td>914</td><td>461</td><td>1685</td><td>373</td><td>222</td></tr><tr><th>30</th><td>29</td><td>C</td><td>876</td><td>504</td><td>1647</td><td>401</td><td>262</td></tr><tr><th>&vellip;</th><td>&vellip;</td><td>&vellip;</td><td>&vellip;</td><td>&vellip;</td><td>&vellip;</td><td>&vellip;</td><td>&vellip;</td></tr></tbody></table>"
      ],
      "text/latex": [
       "\\begin{tabular}{r|cccccccc}\n",
       "\t& Column1 & ethnicity & CNSL\\_probe\\_0 & CNSL\\_probe\\_1 & CNSL\\_probe\\_2 & CNSL\\_probe\\_3 & CNSL\\_probe\\_4 & \\\\\n",
       "\t\\hline\n",
       "\t& Int64 & String & Int64 & Int64 & Int64 & Int64 & Int64 & \\\\\n",
       "\t\\hline\n",
       "\t1 & 0 & A & 410 & 233 & 697 & 167 & 131 & $\\dots$ \\\\\n",
       "\t2 & 1 & C & 557 & 304 & 956 & 208 & 138 & $\\dots$ \\\\\n",
       "\t3 & 2 & A & 487 & 260 & 861 & 194 & 148 & $\\dots$ \\\\\n",
       "\t4 & 3 & B & 686 & 368 & 1276 & 267 & 221 & $\\dots$ \\\\\n",
       "\t5 & 4 & C & 677 & 348 & 1248 & 267 & 179 & $\\dots$ \\\\\n",
       "\t6 & 5 & A & 879 & 404 & 1376 & 368 & 242 & $\\dots$ \\\\\n",
       "\t7 & 6 & A & 901 & 469 & 1543 & 378 & 293 & $\\dots$ \\\\\n",
       "\t8 & 7 & C & 455 & 247 & 865 & 213 & 122 & $\\dots$ \\\\\n",
       "\t9 & 8 & C & 746 & 404 & 1324 & 293 & 242 & $\\dots$ \\\\\n",
       "\t10 & 9 & B & 851 & 420 & 1400 & 285 & 201 & $\\dots$ \\\\\n",
       "\t11 & 10 & C & 633 & 329 & 1111 & 257 & 181 & $\\dots$ \\\\\n",
       "\t12 & 11 & C & 1106 & 551 & 1677 & 372 & 329 & $\\dots$ \\\\\n",
       "\t13 & 12 & C & 805 & 447 & 1413 & 346 & 255 & $\\dots$ \\\\\n",
       "\t14 & 13 & C & 746 & 394 & 1276 & 289 & 221 & $\\dots$ \\\\\n",
       "\t15 & 14 & A & 1038 & 452 & 1594 & 367 & 277 & $\\dots$ \\\\\n",
       "\t16 & 15 & B & 726 & 393 & 1152 & 308 & 202 & $\\dots$ \\\\\n",
       "\t17 & 16 & B & 884 & 455 & 1493 & 420 & 254 & $\\dots$ \\\\\n",
       "\t18 & 17 & B & 619 & 314 & 1057 & 264 & 177 & $\\dots$ \\\\\n",
       "\t19 & 18 & C & 1109 & 615 & 2020 & 423 & 288 & $\\dots$ \\\\\n",
       "\t20 & 19 & A & 1100 & 571 & 2066 & 458 & 341 & $\\dots$ \\\\\n",
       "\t21 & 20 & C & 443 & 228 & 790 & 175 & 134 & $\\dots$ \\\\\n",
       "\t22 & 21 & B & 854 & 396 & 1367 & 334 & 253 & $\\dots$ \\\\\n",
       "\t23 & 22 & A & 815 & 429 & 1308 & 302 & 203 & $\\dots$ \\\\\n",
       "\t24 & 23 & A & 363 & 183 & 639 & 158 & 115 & $\\dots$ \\\\\n",
       "\t25 & 24 & B & 1131 & 505 & 2015 & 441 & 372 & $\\dots$ \\\\\n",
       "\t26 & 25 & A & 739 & 403 & 1329 & 301 & 217 & $\\dots$ \\\\\n",
       "\t27 & 26 & C & 751 & 412 & 1289 & 319 & 217 & $\\dots$ \\\\\n",
       "\t28 & 27 & A & 811 & 413 & 1435 & 293 & 231 & $\\dots$ \\\\\n",
       "\t29 & 28 & C & 914 & 461 & 1685 & 373 & 222 & $\\dots$ \\\\\n",
       "\t30 & 29 & C & 876 & 504 & 1647 & 401 & 262 & $\\dots$ \\\\\n",
       "\t$\\dots$ & $\\dots$ & $\\dots$ & $\\dots$ & $\\dots$ & $\\dots$ & $\\dots$ & $\\dots$ &  \\\\\n",
       "\\end{tabular}\n"
      ],
      "text/plain": [
       "10000×102 DataFrames.DataFrame. Omitted printing of 97 columns\n",
       "│ Row   │ Column1 │ ethnicity │ CNSL_probe_0 │ CNSL_probe_1 │ CNSL_probe_2 │\n",
       "│       │ \u001b[90mInt64\u001b[39m   │ \u001b[90mString\u001b[39m    │ \u001b[90mInt64\u001b[39m        │ \u001b[90mInt64\u001b[39m        │ \u001b[90mInt64\u001b[39m        │\n",
       "├───────┼─────────┼───────────┼──────────────┼──────────────┼──────────────┤\n",
       "│ 1     │ 0       │ A         │ 410          │ 233          │ 697          │\n",
       "│ 2     │ 1       │ C         │ 557          │ 304          │ 956          │\n",
       "│ 3     │ 2       │ A         │ 487          │ 260          │ 861          │\n",
       "│ 4     │ 3       │ B         │ 686          │ 368          │ 1276         │\n",
       "│ 5     │ 4       │ C         │ 677          │ 348          │ 1248         │\n",
       "│ 6     │ 5       │ A         │ 879          │ 404          │ 1376         │\n",
       "│ 7     │ 6       │ A         │ 901          │ 469          │ 1543         │\n",
       "│ 8     │ 7       │ C         │ 455          │ 247          │ 865          │\n",
       "│ 9     │ 8       │ C         │ 746          │ 404          │ 1324         │\n",
       "│ 10    │ 9       │ B         │ 851          │ 420          │ 1400         │\n",
       "⋮\n",
       "│ 9990  │ 9989    │ B         │ 655          │ 359          │ 1107         │\n",
       "│ 9991  │ 9990    │ C         │ 487          │ 239          │ 830          │\n",
       "│ 9992  │ 9991    │ C         │ 981          │ 505          │ 1728         │\n",
       "│ 9993  │ 9992    │ A         │ 669          │ 345          │ 1111         │\n",
       "│ 9994  │ 9993    │ A         │ 377          │ 195          │ 714          │\n",
       "│ 9995  │ 9994    │ A         │ 291          │ 159          │ 566          │\n",
       "│ 9996  │ 9995    │ A         │ 523          │ 292          │ 942          │\n",
       "│ 9997  │ 9996    │ A         │ 1036         │ 496          │ 1883         │\n",
       "│ 9998  │ 9997    │ C         │ 847          │ 430          │ 1541         │\n",
       "│ 9999  │ 9998    │ B         │ 1013         │ 606          │ 1819         │\n",
       "│ 10000 │ 9999    │ A         │ 819          │ 432          │ 1436         │"
      ]
     },
     "execution_count": 1,
     "metadata": {},
     "output_type": "execute_result"
    }
   ],
   "source": [
    "#import Pkg; Pkg.add(\"CSV\")\n",
    "using CSV\n",
    "csnl_data = CSV.read(\"cnsl_data.csv\")"
   ]
  }
 ],
 "metadata": {
  "kernelspec": {
   "display_name": "Julia 1.3.1",
   "language": "julia",
   "name": "julia-1.3"
  },
  "language_info": {
   "file_extension": ".jl",
   "mimetype": "application/julia",
   "name": "julia",
   "version": "1.3.1"
  }
 },
 "nbformat": 4,
 "nbformat_minor": 4
}
